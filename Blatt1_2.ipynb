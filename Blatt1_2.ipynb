{
 "cells": [
  {
   "cell_type": "markdown",
   "id": "4486d52b-d668-4d4d-81d0-4adfcb947a65",
   "metadata": {},
   "source": [
    "# Blatt 1: Erik Neller, Sebastian Wünsch, Julia Von Bredow"
   ]
  },
  {
   "cell_type": "markdown",
   "id": "0e723e5d-0a97-45d9-85a1-7b6187705a3e",
   "metadata": {},
   "source": [
    "# 1\n",
    "| Nominal | Ordinal |  Interval | Ratio\n",
    "|-|-|-|-|\n",
    "|Mode|\n",
    "||| Quantile|\n",
    "||| Median|\n",
    "||Range|\n",
    "||| Interquartile Range|\n",
    "|||Variance\n",
    "|||Skewness\n",
    "|||Quartile Skewness\n"
   ]
  },
  {
   "cell_type": "code",
   "execution_count": 5,
   "id": "38cd1d23-d7e0-481d-9cf3-8b2f8e2dccf5",
   "metadata": {},
   "outputs": [
    {
     "data": {
      "text/plain": [
       "{'mode': [6],\n",
       " 'mean': 8.666666666666666,\n",
       " 'quantile_25': 2.5,\n",
       " 'median': 6,\n",
       " 'quantile_50': 6,\n",
       " 'quantile_75': 10,\n",
       " 'range': 24,\n",
       " 'interquartile_range': 6,\n",
       " 'variance': 72.66666666666667,\n",
       " 'skewness': 1.014229035877597,\n",
       " 'quartile_skewness': 0.06666666666666667}"
      ]
     },
     "execution_count": 5,
     "metadata": {},
     "output_type": "execute_result"
    }
   ],
   "source": [
    "import statistics\n",
    "import math\n",
    "import numpy as np\n",
    "import scipy as sp\n",
    "x = [6,4,10,1,6,25]\n",
    "def modefromlist(l):\n",
    "    frequencies = {}\n",
    "    for item in set(l):\n",
    "        frequencies[item] = l.count(item)\n",
    "    max_freq = max(frequencies.values())\n",
    "    return [item for (item, frequency) in frequencies.items() if frequency is max_freq]\n",
    "\n",
    "def percentile(list, quant, average=True):\n",
    "    list = sorted(list)\n",
    "    quant = quant /100\n",
    "    index = len(list) * quant -1\n",
    "    ceil = math.ceil(index)\n",
    "    floor = math.floor(index)\n",
    "    if ceil == index or not average : \n",
    "        return list[ceil]\n",
    "    return (list[ceil] + list[floor]) /2\n",
    "\n",
    "def variance(l):\n",
    "    avg = sum(l) / len(l)\n",
    "    return sum([(n - avg) ** 2 for n in l]) / (len(l)-1)\n",
    "d = {}\n",
    "d[\"mode\"] =  modefromlist(x)\n",
    "d[\"mean\"] = sum(x)/ len(x) \n",
    "d[\"quantile_25\"] = percentile(x, 25 ) # np.percentile(x,25, method=\"higher\")\n",
    "d[\"median\"] = percentile(x, 50)\n",
    "d[\"quantile_50\"] = percentile(x, 50, average=False)\n",
    "d[\"quantile_75\"] = percentile(x,75, average=False)\n",
    "d[\"range\"] = max(x) - min(x)\n",
    "d[\"interquartile_range\"] = percentile(x, 75, average=False) - percentile(x, 25, average=False)\n",
    "d[\"variance\"] = variance(x)\n",
    "d[\"skewness\"] = sum([((n - d[\"mean\"]) / math.sqrt(d[\"variance\"]))**3  for n in x]) / len(x) # sp.stats.skew(x)\n",
    "d[\"quartile_skewness\"] = ((d[\"quantile_75\"] - d[\"quantile_50\"])-(d[\"quantile_50\"]- d[\"quantile_25\"])) / (d[\"quantile_75\"] - d[\"quantile_25\"])\n",
    "d"
   ]
  },
  {
   "cell_type": "markdown",
   "id": "afd51d84-a1fd-4911-b2f9-59a52a1da257",
   "metadata": {},
   "source": [
    "# 2 \n",
    "a) 1: quantile_75, 2: median, 3: quantile_25, 6: interquartile range\n",
    "\n",
    "b) lower whisker: $$ min(\\{ x | x \\in X \\land x \\geq \\tilde{x}_{0.25} - 1.5 \\cdot Q\\}) =\\tilde{x}_{0.25} -1.5 Q = 4-1.5 \\cdot 6 = -5 \\Rightarrow 1 $$\n",
    "upper whisker: $$ max(\\{ x | x \\in X \\land x \\leq \\tilde{x}_{0.75} + 1.5 \\cdot Q\\})= \\tilde{x}_{0.75} + 1.5Q = 10 + 1.5 \\cdot 6 = 19 \\Rightarrow 10 $$\n"
   ]
  },
  {
   "cell_type": "markdown",
   "id": "57847df6-927e-495c-bd22-887d3deb0dbf",
   "metadata": {},
   "source": [
    "# 3\n",
    "a) [-1;1]\n",
    "\n",
    "b) g > 0 then it is called right-skewed distribution, g < 0 then it is called left-skewed distrubtion \n",
    "\n",
    "c) $g = 1$ if $\\tilde{x}_{0.5} - \\tilde{x}_{0.25} = 0$. Conversely, $g=-1$ if $\\tilde{x}_{0.75} - \\tilde{x}_{0.5} = 0$, so the median is equal to the upper or lower quartile.\n",
    "\n",
    "d) $X_1 = \\{ 1,1,1,10\\}$\n",
    "\n",
    "e) $X_1 = \\{10,10,10,1\\}$\n",
    "\n",
    "f) $g > 0$"
   ]
  },
  {
   "cell_type": "markdown",
   "id": "9155d519-a1ea-432f-a27d-dc126999ec7f",
   "metadata": {},
   "source": [
    "# 4\n",
    "mean: strongly affected by outliers\n",
    "\n",
    "median: varies greatly when using small sample sizes\n",
    "\n",
    "mode: no information about distribution\n",
    "\n",
    "range: outliers, again\n",
    "\n",
    "correlation: no causality\n",
    "\n",
    "variance: return of the outliers "
   ]
  }
 ],
 "metadata": {
  "kernelspec": {
   "display_name": "Python 3 (ipykernel)",
   "language": "python",
   "name": "python3"
  },
  "language_info": {
   "codemirror_mode": {
    "name": "ipython",
    "version": 3
   },
   "file_extension": ".py",
   "mimetype": "text/x-python",
   "name": "python",
   "nbconvert_exporter": "python",
   "pygments_lexer": "ipython3",
   "version": "3.11.8"
  }
 },
 "nbformat": 4,
 "nbformat_minor": 5
}
