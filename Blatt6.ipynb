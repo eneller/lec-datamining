{
 "cells": [
  {
   "cell_type": "code",
   "execution_count": 53,
   "id": "8b3b0f53-f06d-4d89-b960-5a1b84f9c819",
   "metadata": {},
   "outputs": [],
   "source": [
    "from sklearn.datasets import load_sample_image\n",
    "from skimage.transform import rescale\n",
    "from skimage.util import random_noise\n",
    "from PIL import Image\n",
    "import numpy as np\n",
    "import matplotlib.pyplot as plt\n",
    "sample = load_sample_image(\"flower.jpg\")\n",
    "ratios = (0, .2, .05)\n",
    "np_img = rescale(sample/255, 0.25)\n",
    "np.random.seed(1)"
   ]
  },
  {
   "cell_type": "code",
   "execution_count": 54,
   "id": "5e6a9866-906f-4fed-b2af-e1f160996aee",
   "metadata": {},
   "outputs": [],
   "source": [
    "imgs = []\n",
    "for i, ratio in enumerate(ratios):\n",
    "    imgs.append(random_noise(np_img, mode=\"s&p\", amount = ratio))"
   ]
  },
  {
   "cell_type": "code",
   "execution_count": 74,
   "id": "a2a8b440-a86d-4790-a29b-38f1d0cd1d26",
   "metadata": {},
   "outputs": [
    {
     "data": {
      "text/plain": [
       "(17120,)"
      ]
     },
     "execution_count": 74,
     "metadata": {},
     "output_type": "execute_result"
    }
   ],
   "source": [
    "image = np_img\n",
    "data = image.transpose()"
   ]
  },
  {
   "cell_type": "code",
   "execution_count": 77,
   "id": "5335193e-7ca5-475f-8d71-73e4eecfb3c7",
   "metadata": {},
   "outputs": [
    {
     "ename": "ModuleNotFoundError",
     "evalue": "No module named 'distutils'",
     "output_type": "error",
     "traceback": [
      "\u001b[0;31m---------------------------------------------------------------------------\u001b[0m",
      "\u001b[0;31mModuleNotFoundError\u001b[0m                       Traceback (most recent call last)",
      "Cell \u001b[0;32mIn[77], line 1\u001b[0m\n\u001b[0;32m----> 1\u001b[0m \u001b[38;5;28;01mfrom\u001b[39;00m \u001b[38;5;21;01mskfuzzy\u001b[39;00m \u001b[38;5;28;01mimport\u001b[39;00m cmeans\n\u001b[1;32m      2\u001b[0m help(cmeans)\n",
      "File \u001b[0;32m~/Uni/datamining/.venv/lib/python3.12/site-packages/skfuzzy/__init__.py:44\u001b[0m\n\u001b[1;32m     41\u001b[0m __all__\u001b[38;5;241m.\u001b[39mextend(_intervals\u001b[38;5;241m.\u001b[39m__all__)\n\u001b[1;32m     43\u001b[0m \u001b[38;5;66;03m# Filtering subpackage, including 1D and 2D FIRE functions\u001b[39;00m\n\u001b[0;32m---> 44\u001b[0m \u001b[38;5;28;01mimport\u001b[39;00m \u001b[38;5;21;01mskfuzzy\u001b[39;00m\u001b[38;5;21;01m.\u001b[39;00m\u001b[38;5;21;01mfilters\u001b[39;00m \u001b[38;5;28;01mas\u001b[39;00m \u001b[38;5;21;01m_filters\u001b[39;00m\n\u001b[1;32m     45\u001b[0m \u001b[38;5;28;01mfrom\u001b[39;00m \u001b[38;5;21;01mskfuzzy\u001b[39;00m\u001b[38;5;21;01m.\u001b[39;00m\u001b[38;5;21;01mfilters\u001b[39;00m \u001b[38;5;28;01mimport\u001b[39;00m \u001b[38;5;241m*\u001b[39m\n\u001b[1;32m     46\u001b[0m __all__\u001b[38;5;241m.\u001b[39mextend(_filters\u001b[38;5;241m.\u001b[39m__all__)\n",
      "File \u001b[0;32m~/Uni/datamining/.venv/lib/python3.12/site-packages/skfuzzy/filters/__init__.py:9\u001b[0m\n\u001b[1;32m      1\u001b[0m \u001b[38;5;124;03m\"\"\"\u001b[39;00m\n\u001b[1;32m      2\u001b[0m \u001b[38;5;124;03mskfuzzy.filters : Subpackage for filtering data, e.g. with Fuzzy Inference by\u001b[39;00m\n\u001b[1;32m      3\u001b[0m \u001b[38;5;124;03m    Else-action (FIRE) filters to denoise 1d or 2d data.\u001b[39;00m\n\u001b[1;32m      4\u001b[0m \n\u001b[1;32m      5\u001b[0m \u001b[38;5;124;03m\"\"\"\u001b[39;00m\n\u001b[1;32m      6\u001b[0m __all__ \u001b[38;5;241m=\u001b[39m [\u001b[38;5;124m'\u001b[39m\u001b[38;5;124mfire1d\u001b[39m\u001b[38;5;124m'\u001b[39m,\n\u001b[1;32m      7\u001b[0m            \u001b[38;5;124m'\u001b[39m\u001b[38;5;124mfire2d\u001b[39m\u001b[38;5;124m'\u001b[39m]\n\u001b[0;32m----> 9\u001b[0m \u001b[38;5;28;01mfrom\u001b[39;00m \u001b[38;5;21;01m.\u001b[39;00m\u001b[38;5;21;01mfire\u001b[39;00m \u001b[38;5;28;01mimport\u001b[39;00m fire1d, fire2d\n",
      "File \u001b[0;32m~/Uni/datamining/.venv/lib/python3.12/site-packages/skfuzzy/filters/fire.py:7\u001b[0m\n\u001b[1;32m      1\u001b[0m \u001b[38;5;124;03m\"\"\"\u001b[39;00m\n\u001b[1;32m      2\u001b[0m \u001b[38;5;124;03mfire.py : Collection of Fuzzy Inference Ruled by ELSE-action (FIRE) filters.\u001b[39;00m\n\u001b[1;32m      3\u001b[0m \n\u001b[1;32m      4\u001b[0m \u001b[38;5;124;03m\"\"\"\u001b[39;00m\n\u001b[1;32m      6\u001b[0m \u001b[38;5;28;01mimport\u001b[39;00m \u001b[38;5;21;01mnumpy\u001b[39;00m \u001b[38;5;28;01mas\u001b[39;00m \u001b[38;5;21;01mnp\u001b[39;00m\n\u001b[0;32m----> 7\u001b[0m \u001b[38;5;28;01mfrom\u001b[39;00m \u001b[38;5;21;01m.\u001b[39;00m\u001b[38;5;21;01m.\u001b[39;00m\u001b[38;5;21;01mimage\u001b[39;00m \u001b[38;5;28;01mimport\u001b[39;00m view_as_windows\n\u001b[1;32m      8\u001b[0m \u001b[38;5;28;01mfrom\u001b[39;00m \u001b[38;5;21;01m.\u001b[39;00m\u001b[38;5;21;01m.\u001b[39;00m\u001b[38;5;21;01mmembership\u001b[39;00m \u001b[38;5;28;01mimport\u001b[39;00m trimf\n\u001b[1;32m     11\u001b[0m \u001b[38;5;28;01mdef\u001b[39;00m \u001b[38;5;21mfire1d\u001b[39m(x, l1\u001b[38;5;241m=\u001b[39m\u001b[38;5;241m0\u001b[39m, l2\u001b[38;5;241m=\u001b[39m\u001b[38;5;241m1\u001b[39m):\n",
      "File \u001b[0;32m~/Uni/datamining/.venv/lib/python3.12/site-packages/skfuzzy/image/__init__.py:16\u001b[0m\n\u001b[1;32m     13\u001b[0m \u001b[38;5;28;01mfrom\u001b[39;00m \u001b[38;5;21;01m.\u001b[39;00m\u001b[38;5;21;01mmetrics\u001b[39;00m \u001b[38;5;28;01mimport\u001b[39;00m nmse\n\u001b[1;32m     15\u001b[0m \u001b[38;5;28;01mimport\u001b[39;00m \u001b[38;5;21;01mnumpy\u001b[39;00m \u001b[38;5;28;01mas\u001b[39;00m \u001b[38;5;21;01mnp\u001b[39;00m\n\u001b[0;32m---> 16\u001b[0m \u001b[38;5;28;01mfrom\u001b[39;00m \u001b[38;5;21;01mdistutils\u001b[39;00m\u001b[38;5;21;01m.\u001b[39;00m\u001b[38;5;21;01mversion\u001b[39;00m \u001b[38;5;28;01mimport\u001b[39;00m LooseVersion\n\u001b[1;32m     17\u001b[0m \u001b[38;5;28;01mif\u001b[39;00m LooseVersion(np\u001b[38;5;241m.\u001b[39m__version__) \u001b[38;5;241m>\u001b[39m LooseVersion(\u001b[38;5;124m\"\u001b[39m\u001b[38;5;124m1.8\u001b[39m\u001b[38;5;124m\"\u001b[39m):\n\u001b[1;32m     18\u001b[0m \t\u001b[38;5;28;01mfrom\u001b[39;00m \u001b[38;5;21;01mnumpy\u001b[39;00m \u001b[38;5;28;01mimport\u001b[39;00m pad\n",
      "\u001b[0;31mModuleNotFoundError\u001b[0m: No module named 'distutils'"
     ]
    }
   ],
   "source": [
    "from skfuzzy import cmeans\n",
    "help(cmeans)"
   ]
  }
 ],
 "metadata": {
  "kernelspec": {
   "display_name": "Python 3 (ipykernel)",
   "language": "python",
   "name": "python3"
  },
  "language_info": {
   "codemirror_mode": {
    "name": "ipython",
    "version": 3
   },
   "file_extension": ".py",
   "mimetype": "text/x-python",
   "name": "python",
   "nbconvert_exporter": "python",
   "pygments_lexer": "ipython3",
   "version": "3.12.3"
  }
 },
 "nbformat": 4,
 "nbformat_minor": 5
}
