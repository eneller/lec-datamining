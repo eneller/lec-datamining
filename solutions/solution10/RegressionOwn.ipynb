{
 "cells": [
  {
   "cell_type": "markdown",
   "metadata": {},
   "source": [
    "# Yet Another Regression Problem"
   ]
  },
  {
   "cell_type": "code",
   "execution_count": 1,
   "metadata": {},
   "outputs": [],
   "source": [
    "import numpy as np\n",
    "import pickle\n",
    "import matplotlib.pyplot as plt"
   ]
  },
  {
   "cell_type": "markdown",
   "metadata": {},
   "source": [
    "## Load the Data"
   ]
  },
  {
   "cell_type": "code",
   "execution_count": 2,
   "metadata": {},
   "outputs": [
    {
     "data": {
      "text/plain": [
       "(26, 2)"
      ]
     },
     "execution_count": 2,
     "metadata": {},
     "output_type": "execute_result"
    }
   ],
   "source": [
    "data = pickle.load(open('data2D.pickle', 'rb'))\n",
    "data.shape"
   ]
  },
  {
   "cell_type": "markdown",
   "metadata": {},
   "source": [
    "## Calculate the Regression"
   ]
  },
  {
   "cell_type": "code",
   "execution_count": 3,
   "metadata": {},
   "outputs": [],
   "source": [
    "h1 = lambda x: np.ones(len(x))\n",
    "h2 = lambda x: np.sin(x)\n",
    "h3 = lambda x: np.log(x + 0.0001)"
   ]
  },
  {
   "cell_type": "code",
   "execution_count": 4,
   "metadata": {},
   "outputs": [
    {
     "data": {
      "text/plain": [
       "array([[ 1.        ,  0.54002176, -0.56113175],\n",
       "       [ 1.        ,  0.99022116,  0.35832691],\n",
       "       [ 1.        ,  0.55566838, -0.52887645],\n",
       "       [ 1.        ,  0.93411055,  0.66058955],\n",
       "       [ 1.        ,  0.85143861,  0.75281623],\n",
       "       [ 1.        ,  0.35610157,  1.02158725],\n",
       "       [ 1.        ,  0.02742255,  1.1359937 ],\n",
       "       [ 1.        , -0.73991526,  1.37993343],\n",
       "       [ 1.        , -0.9988624 ,  1.56028813],\n",
       "       [ 1.        , -0.33797023,  1.78146094],\n",
       "       [ 1.        , -0.13857129,  1.8155194 ],\n",
       "       [ 1.        , -0.06415973,  1.82762222],\n",
       "       [ 1.        ,  0.99795979,  2.05286558],\n",
       "       [ 1.        ,  0.61476878,  2.1705138 ],\n",
       "       [ 1.        , -0.32328942,  2.27768581],\n",
       "       [ 1.        , -0.85275663,  2.34623048],\n",
       "       [ 1.        , -0.58790195,  2.30790499],\n",
       "       [ 1.        ,  0.57215375,  1.9304215 ],\n",
       "       [ 1.        ,  0.8804081 ,  1.99606094],\n",
       "       [ 1.        ,  0.94640186,  2.10205521],\n",
       "       [ 1.        ,  0.91961245,  2.11115641],\n",
       "       [ 1.        ,  0.04799995,  1.84550617],\n",
       "       [ 1.        ,  0.85077758,  2.12911403],\n",
       "       [ 1.        ,  0.71247473,  2.15545992],\n",
       "       [ 1.        , -0.91985958,  1.63228745],\n",
       "       [ 1.        , -0.40909578,  1.27064654]])"
      ]
     },
     "execution_count": 4,
     "metadata": {},
     "output_type": "execute_result"
    }
   ],
   "source": [
    "H = np.stack([h1(data[:, 0]), h2(data[:, 0]), h3(data[:, 0])], axis=1)\n",
    "H"
   ]
  },
  {
   "cell_type": "code",
   "execution_count": 5,
   "metadata": {},
   "outputs": [
    {
     "data": {
      "text/plain": [
       "array([3.2334685 , 1.73280454, 2.49649192])"
      ]
     },
     "execution_count": 5,
     "metadata": {},
     "output_type": "execute_result"
    }
   ],
   "source": [
    "weights = np.matmul(np.linalg.pinv(H), data[:, 1])\n",
    "weights"
   ]
  },
  {
   "cell_type": "code",
   "execution_count": 6,
   "metadata": {},
   "outputs": [
    {
     "data": {
      "text/plain": [
       "40.63188715287524"
      ]
     },
     "execution_count": 6,
     "metadata": {},
     "output_type": "execute_result"
    }
   ],
   "source": [
    "error = np.linalg.norm(data[:, 1] - np.matmul(H, weights))**2\n",
    "error"
   ]
  },
  {
   "cell_type": "code",
   "execution_count": 7,
   "metadata": {},
   "outputs": [],
   "source": [
    "def func_reg(x):\n",
    "    H = np.array([h1(x), h2(x), h3(x)]).transpose()\n",
    "    \n",
    "    return np.matmul(H, weights)"
   ]
  },
  {
   "cell_type": "markdown",
   "metadata": {},
   "source": [
    "## Plot the Result"
   ]
  },
  {
   "cell_type": "code",
   "execution_count": 8,
   "metadata": {},
   "outputs": [
    {
     "data": {
      "image/png": "[encoded data removed]",
      "text/plain": [
       "<Figure size 432x288 with 1 Axes>"
      ]
     },
     "metadata": {
      "needs_background": "light"
     },
     "output_type": "display_data"
    }
   ],
   "source": [
    "x = np.linspace(0.1, 11)\n",
    "plt.plot(x, func_reg(x), label='$f(x)$')\n",
    "plt.scatter(data[:, 0], data[:, 1], c='C1', zorder=3, label='Data')\n",
    "plt.xlabel('$x$')\n",
    "plt.ylabel('$y$')\n",
    "plt.title('Regression parabola ($E = %f$)' % error)\n",
    "plt.grid()\n",
    "plt.legend();"
   ]
  }
 ],
 "metadata": {
  "kernelspec": {
   "display_name": "Python 3",
   "language": "python",
   "name": "python3"
  },
  "language_info": {
   "codemirror_mode": {
    "name": "ipython",
    "version": 3
   },
   "file_extension": ".py",
   "mimetype": "text/x-python",
   "name": "python",
   "nbconvert_exporter": "python",
   "pygments_lexer": "ipython3",
   "version": "3.7.3"
  }
 },
 "nbformat": 4,
 "nbformat_minor": 2
}
