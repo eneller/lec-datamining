{
 "cells": [
  {
   "cell_type": "markdown",
   "metadata": {},
   "source": [
    "# Using the Pseudoinverse for Parabolic Regression"
   ]
  },
  {
   "cell_type": "code",
   "execution_count": 1,
   "metadata": {},
   "outputs": [],
   "source": [
    "import numpy as np\n",
    "import matplotlib.pyplot as plt\n",
    "\n",
    "import sys\n",
    "sys.path.append('../../fonts')\n",
    "from set_font import set_font"
   ]
  },
  {
   "cell_type": "code",
   "execution_count": 2,
   "metadata": {},
   "outputs": [],
   "source": [
    "data = np.array([[2, 3],\n",
    "                 [6, 8],\n",
    "                 [8, 6],\n",
    "                 [10, 2]])"
   ]
  },
  {
   "cell_type": "markdown",
   "metadata": {},
   "source": [
    "## Part 1: Define the Base Functions\n",
    "The base functions are defined as follows:\n",
    "\n",
    "\\begin{equation*}\n",
    "    h_1(x) = 1, \\quad h_2(x) = x \\quad \\text{and} \\quad h_3(x) = x^2.\n",
    "\\end{equation*}"
   ]
  },
  {
   "cell_type": "code",
   "execution_count": 3,
   "metadata": {},
   "outputs": [],
   "source": [
    "h1 = lambda x: np.ones(len(x))\n",
    "h2 = lambda x: np.asarray(x)\n",
    "h3 = lambda x: np.asarray(x)**2"
   ]
  },
  {
   "cell_type": "markdown",
   "metadata": {},
   "source": [
    "## Part 2: Set Up the Matrix $H$\n",
    "In order to solve the linear system $H\\boldsymbol{w} = \\boldsymbol{y}$, we need to set up the matrix $H$. Each row in this matrix corresponds to a data point (first component) and in the columns, we apply the corresponding base functions to the data points:\n",
    "\n",
    "\\begin{equation*}\n",
    "    H = \n",
    "    \\begin{pmatrix}\n",
    "        h_1(2) & h_2(2) & h_3(2) \\\\\n",
    "        h_1(6) & h_2(6) & h_3(6) \\\\\n",
    "        h_1(8) & h_2(8) & h_3(8) \\\\\n",
    "        h_1(10) & h_2(10) & h_3(10)\n",
    "    \\end{pmatrix}\n",
    "\\end{equation*}"
   ]
  },
  {
   "cell_type": "code",
   "execution_count": 4,
   "metadata": {},
   "outputs": [
    {
     "data": {
      "text/plain": [
       "array([[  1.,   2.,   4.],\n",
       "       [  1.,   6.,  36.],\n",
       "       [  1.,   8.,  64.],\n",
       "       [  1.,  10., 100.]])"
      ]
     },
     "execution_count": 4,
     "metadata": {},
     "output_type": "execute_result"
    }
   ],
   "source": [
    "H = np.stack([h1(data[:, 0]), h2(data[:, 0]), h3(data[:, 0])], axis=1)\n",
    "H"
   ]
  },
  {
   "cell_type": "markdown",
   "metadata": {},
   "source": [
    "## Part 3: Solve the System"
   ]
  },
  {
   "cell_type": "code",
   "execution_count": 5,
   "metadata": {},
   "outputs": [
    {
     "data": {
      "text/plain": [
       "array([-3.4       ,  3.88409091, -0.33522727])"
      ]
     },
     "execution_count": 5,
     "metadata": {},
     "output_type": "execute_result"
    }
   ],
   "source": [
    "weights = np.matmul(np.linalg.pinv(H), data[:, 1])\n",
    "weights"
   ]
  },
  {
   "cell_type": "markdown",
   "metadata": {},
   "source": [
    "## Part 4: Error"
   ]
  },
  {
   "cell_type": "code",
   "execution_count": 6,
   "metadata": {},
   "outputs": [
    {
     "data": {
      "text/plain": [
       "0.08181818181818153"
      ]
     },
     "execution_count": 6,
     "metadata": {},
     "output_type": "execute_result"
    }
   ],
   "source": [
    "error = np.linalg.norm(data[:, 1] - np.matmul(H, weights))**2\n",
    "error"
   ]
  },
  {
   "cell_type": "markdown",
   "metadata": {},
   "source": [
    "## Part 5: Plot the Result"
   ]
  },
  {
   "cell_type": "code",
   "execution_count": 7,
   "metadata": {},
   "outputs": [],
   "source": [
    "def func_reg(x):\n",
    "    H = np.array([h1(x), h2(x), h3(x)]).transpose()\n",
    "    \n",
    "    return np.matmul(H, weights)"
   ]
  },
  {
   "cell_type": "code",
   "execution_count": 8,
   "metadata": {},
   "outputs": [
    {
     "data": {
      "image/png": "[encoded data removed]",
      "text/plain": [
       "<Figure size 576x432 with 1 Axes>"
      ]
     },
     "metadata": {
      "needs_background": "light"
     },
     "output_type": "display_data"
    }
   ],
   "source": [
    "set_font()\n",
    "plt.figure(figsize=(8, 6))\n",
    "x = np.linspace(0, 11)\n",
    "plt.plot(x, func_reg(x), label='$f(x)$')\n",
    "plt.scatter(data[:, 0], data[:, 1], c='C1', zorder=3, label='Data')\n",
    "plt.xlabel('$x$')\n",
    "plt.ylabel('$y$')\n",
    "plt.title('Regression parabola ($E = %f$)' % error)\n",
    "plt.grid()\n",
    "plt.legend();\n",
    "#plt.savefig('../assignment11/figures/RegressionParabola.pdf', bbox_inches='tight')"
   ]
  },
  {
   "cell_type": "markdown",
   "metadata": {},
   "source": [
    "## Part 6: When to Use $X^+$\n",
    "It is possible to use the pseudoinverse for functions $f_1(x), f_2(x)$ and $f_4(x_1, x_2)$ since these are linear combinations of base functions without parameters. On the other hand, it is not possible to find a direct solution for $f_3(x)$ and $f_5(x_1, x_2)$ since in both cases the weights appear as parameters of the function and hence require base functions $h_{c_i}(x)$ with learnable parameters."
   ]
  },
  {
   "cell_type": "code",
   "execution_count": 9,
   "metadata": {},
   "outputs": [],
   "source": [
    "sol_vars = ['H', 'weights', 'error']"
   ]
  }
 ],
 "metadata": {
  "kernelspec": {
   "display_name": "Python 3",
   "language": "python",
   "name": "python3"
  },
  "language_info": {
   "codemirror_mode": {
    "name": "ipython",
    "version": 3
   },
   "file_extension": ".py",
   "mimetype": "text/x-python",
   "name": "python",
   "nbconvert_exporter": "python",
   "pygments_lexer": "ipython3",
   "version": "3.7.3"
  }
 },
 "nbformat": 4,
 "nbformat_minor": 2
}
