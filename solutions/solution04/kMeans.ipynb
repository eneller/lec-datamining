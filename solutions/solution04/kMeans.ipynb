{
 "cells": [
  {
   "cell_type": "markdown",
   "metadata": {},
   "source": [
    "# $k$-means Clustering"
   ]
  },
  {
   "cell_type": "code",
   "execution_count": 1,
   "metadata": {
    "pycharm": {
     "is_executing": false
    }
   },
   "outputs": [],
   "source": [
    "import numpy as np\n",
    "from sklearn.datasets import load_iris\n",
    "from sklearn.neighbors import NearestNeighbors\n",
    "from scipy.spatial import distance\n",
    "import matplotlib.pyplot as plt\n",
    "from ipywidgets import interact\n",
    "import ipywidgets as widgets"
   ]
  },
  {
   "cell_type": "markdown",
   "metadata": {},
   "source": [
    "## Initialization"
   ]
  },
  {
   "cell_type": "code",
   "execution_count": 2,
   "metadata": {
    "pycharm": {
     "is_executing": false
    }
   },
   "outputs": [],
   "source": [
    "dataset = load_iris()  # If you want to know more about this dataset: https://en.wikipedia.org/wiki/Iris_flower_data_set\n",
    "data = dataset['data'][:, 2:]  # We use only the petal length and width\n",
    "k = 3\n",
    "iterations = 20"
   ]
  },
  {
   "cell_type": "markdown",
   "metadata": {},
   "source": [
    "## Implement the Algorithm\n",
    "### Functions"
   ]
  },
  {
   "cell_type": "code",
   "execution_count": 3,
   "metadata": {
    "pycharm": {
     "is_executing": false
    }
   },
   "outputs": [],
   "source": [
    "def reassign(prototypes):\n",
    "    nb = NearestNeighbors(n_neighbors=1).fit(prototypes)\n",
    "    \n",
    "    # Find the closest prototype for each data point\n",
    "    indices = nb.kneighbors(data, return_distance=False)[:, 0]\n",
    "    \n",
    "    return indices\n",
    "\n",
    "def recalculate(indices):\n",
    "    prototypes = np.zeros((k, data.shape[1]))\n",
    "    \n",
    "    for i in range(k):\n",
    "        points = data[indices == i, :]\n",
    "        prototypes[i, :] = np.mean(points, axis=0)\n",
    "    \n",
    "    return prototypes\n",
    "\n",
    "def total_variance(indices, prototypes):\n",
    "    variance = 0\n",
    "    \n",
    "    for i in range(k):\n",
    "        prototype = prototypes[[i], :]\n",
    "        points = data[indices == i, :]\n",
    "        \n",
    "        # Calculate the distance from the prototype to all assigned data points\n",
    "        pdist = distance.cdist(prototype, points, metric='sqeuclidean')\n",
    "        \n",
    "        variance += np.sum(pdist)\n",
    "    \n",
    "    return variance"
   ]
  },
  {
   "cell_type": "markdown",
   "metadata": {},
   "source": [
    "### Run the Algorithm"
   ]
  },
  {
   "cell_type": "code",
   "execution_count": 4,
   "metadata": {
    "pycharm": {
     "is_executing": false
    }
   },
   "outputs": [],
   "source": [
    "np.random.seed(2)  # For reproducibility\n",
    "cluster_prototypes = []\n",
    "cluster_indices = []\n",
    "variances = []\n",
    "\n",
    "for i in range(iterations+1):\n",
    "    if i == 0:\n",
    "        cluster_prototypes.append(data[np.random.randint(0, len(data), 3), :])\n",
    "    else:\n",
    "        cluster_prototypes.append(recalculate(cluster_indices[-1]))\n",
    "    \n",
    "    cluster_indices.append(reassign(cluster_prototypes[-1]))\n",
    "    variances.append(total_variance(cluster_indices[-1], cluster_prototypes[-1]))"
   ]
  },
  {
   "cell_type": "markdown",
   "metadata": {},
   "source": [
    "## Visualize the Result"
   ]
  },
  {
   "cell_type": "code",
   "execution_count": 5,
   "metadata": {
    "pycharm": {
     "is_executing": false
    }
   },
   "outputs": [
    {
     "data": {
      "application/vnd.jupyter.widget-view+json": {
       "model_id": "776ba0168ce14ff4b7de965dac635e42",
       "version_major": 2,
       "version_minor": 0
      },
      "text/plain": [
       "FigureCanvasNbAgg()"
      ]
     },
     "metadata": {},
     "output_type": "display_data"
    },
    {
     "data": {
      "application/vnd.jupyter.widget-view+json": {
       "model_id": "cca7fba518df48ca9cb662302448deb4",
       "version_major": 2,
       "version_minor": 0
      },
      "text/plain": [
       "interactive(children=(IntSlider(value=0, description='Iteration:', max=20), Output()), _dom_classes=('widget-i…"
      ]
     },
     "metadata": {},
     "output_type": "display_data"
    }
   ],
   "source": [
    "%matplotlib widget\n",
    "fig, (ax1, ax2) = plt.subplots(2, 1, figsize=(5, 6), gridspec_kw={'height_ratios': [2, 1]})\n",
    "fig.subplots_adjust(hspace=0.35, top=0.95, bottom=0.1)\n",
    "\n",
    "def plot_cluster(iteration):\n",
    "    indices = cluster_indices[iteration]\n",
    "    prototypes = cluster_prototypes[iteration]\n",
    "    \n",
    "    ax1.clear()\n",
    "    ax2.clear()\n",
    "\n",
    "    # Plot each cluster\n",
    "    for i in range(k):\n",
    "        points = data[indices == i, :]\n",
    "        ax1.scatter(points[:, 0], points[:, 1], c='C{:d}'.format(i), s=15)\n",
    "        ax1.scatter(prototypes[i, 0], prototypes[i, 1], c='C{:d}'.format(i), marker='D', s=50, edgecolor='k', linewidth=2)\n",
    "    \n",
    "    ax1.set_xlabel('Petal Lengths (cm)')\n",
    "    ax1.set_ylabel('Petal Widths (cm)')\n",
    "    ax1.set_title('Cluster result')\n",
    "    ax1.set_axisbelow(True)\n",
    "    ax1.grid()\n",
    "    \n",
    "    # Variance plot\n",
    "    ax2.plot(variances)\n",
    "    ax2.scatter(iteration, variances[iteration], c='gray', zorder=3)\n",
    "    ax2.set_xlabel('Iteration')\n",
    "    ax2.set_ylabel('$D_{var}$')\n",
    "    ax2.set_title('Variance criterion')\n",
    "    ax2.set_axisbelow(True)\n",
    "    ax2.grid()\n",
    "\n",
    "iteration_slider = widgets.IntSlider(min=0, max=iterations, description='Iteration:')\n",
    "interact(plot_cluster, iteration=iteration_slider);"
   ]
  },
  {
   "cell_type": "code",
   "execution_count": 6,
   "metadata": {},
   "outputs": [],
   "source": [
    "sol_vars = ['cluster_prototypes', 'cluster_indices', 'variances']"
   ]
  }
 ],
 "metadata": {
  "kernelspec": {
   "display_name": "Python 3",
   "language": "python",
   "name": "python3"
  },
  "language_info": {
   "codemirror_mode": {
    "name": "ipython",
    "version": 3
   },
   "file_extension": ".py",
   "mimetype": "text/x-python",
   "name": "python",
   "nbconvert_exporter": "python",
   "pygments_lexer": "ipython3",
   "version": "3.7.3"
  }
 },
 "nbformat": 4,
 "nbformat_minor": 2
}
